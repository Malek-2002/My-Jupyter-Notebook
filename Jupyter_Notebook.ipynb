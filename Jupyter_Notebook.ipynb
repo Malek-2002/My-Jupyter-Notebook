{
  "metadata": {
    "kernelspec": {
      "name": "python",
      "display_name": "Pyolite",
      "language": "python"
    },
    "language_info": {
      "codemirror_mode": {
        "name": "python",
        "version": 3
      },
      "file_extension": ".py",
      "mimetype": "text/x-python",
      "name": "python",
      "nbconvert_exporter": "python",
      "pygments_lexer": "ipython3",
      "version": "3.8"
    }
  },
  "nbformat_minor": 4,
  "nbformat": 4,
  "cells": [
    {
      "cell_type": "markdown",
      "source": "<center>\n    <img src=\"https://s3-api.us-geo.objectstorage.softlayer.net/cf-courses-data/CognitiveClass/Logos/organization_logo/organization_logo.png\" width=\"300\" alt=\"cognitiveclass.ai logo\"  />\n</center>\n",
      "metadata": {}
    },
    {
      "cell_type": "markdown",
      "source": "#### Add your code below following the instructions given in the course\n",
      "metadata": {}
    },
    {
      "cell_type": "markdown",
      "source": "# My Jupyter Notebook on IBM Watson Studio",
      "metadata": {}
    },
    {
      "cell_type": "markdown",
      "source": "## 𝐌𝐚𝐥𝐞𝐤 𝐇𝐨𝐬𝐬𝐚𝐦\n## Data Scientist",
      "metadata": {}
    },
    {
      "cell_type": "markdown",
      "source": "## 𝘐 𝘢𝘮 𝘪𝘯𝘵𝘦𝘳𝘦𝘴𝘵𝘦𝘥 𝘪𝘯 𝘥𝘢𝘵𝘢 𝘴𝘤𝘪𝘦𝘯𝘤𝘦 𝘣𝘦𝘤𝘢𝘶𝘴𝘦 𝘐 𝘢𝘮 𝘪𝘯𝘵𝘦𝘳𝘦𝘴𝘵𝘦𝘥 𝘪𝘯 𝘥𝘢𝘵𝘢 𝘢𝘯𝘥 𝘩𝘰𝘸 𝘱𝘦𝘰𝘱𝘭𝘦 𝘭𝘪𝘷𝘦. ",
      "metadata": {}
    },
    {
      "cell_type": "markdown",
      "source": "### This code below output is 2",
      "metadata": {}
    },
    {
      "cell_type": "code",
      "source": "I will ...\n\n---\n\nbe\n\n***\n\nthe \n\n___\n\nBEST\n\n\n| first         | secnd         | third |\n| ------------- |:-------------:| -----:|\n| day         | to be done    | $1600 |\n| Habits        | centered      |   $12 |\n| zebra stripes | are neat      |    $1 |",
      "metadata": {},
      "execution_count": null,
      "outputs": []
    }
  ]
}